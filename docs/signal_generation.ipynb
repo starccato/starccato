{
 "cells": [
  {
   "cell_type": "markdown",
   "source": [
    "# Signal Generation\n",
    "\n",
    "This notebook demonstrates the generation of a core-collapse supernova signal using the `staccato` package. We present both the python and the command-line application protocal interfaces (APIs) to generate the signal.\n",
    "\n",
    "## Python API"
   ],
   "metadata": {
    "collapsed": false
   }
  },
  {
   "cell_type": "code",
   "execution_count": null,
   "outputs": [],
   "source": [
    "from staccato."
   ],
   "metadata": {
    "collapsed": false
   }
  }
 ],
 "metadata": {
  "kernelspec": {
   "display_name": "Python 3",
   "language": "python",
   "name": "python3"
  },
  "language_info": {
   "codemirror_mode": {
    "name": "ipython",
    "version": 2
   },
   "file_extension": ".py",
   "mimetype": "text/x-python",
   "name": "python",
   "nbconvert_exporter": "python",
   "pygments_lexer": "ipython2",
   "version": "2.7.6"
  }
 },
 "nbformat": 4,
 "nbformat_minor": 0
}
