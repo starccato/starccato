{
 "cells": [
  {
   "cell_type": "markdown",
   "metadata": {
    "collapsed": false
   },
   "source": [
    "<a target=\"_blank\" href=\"https://colab.research.google.com/github/starccato/starccato/blob/main/docs/training.ipynb\">\n",
    "  <img src=\"https://colab.research.google.com/assets/colab-badge.svg\" alt=\"Open In Colab\"/>\n",
    "</a>\n",
    "\n",
    "\n",
    "# Training\n",
    "\n",
    "This demonstrates our training  process for a Generative Adversarial Network (GAN) to generate stellar core collapse signals. The GAN is trained on a dataset of 1764 stellar core collapse signals, each with 256 timestamps.\n",
    "\n"
   ]
  },
  {
   "cell_type": "code",
   "execution_count": null,
   "metadata": {
    "collapsed": false
   },
   "outputs": [],
   "source": [
    "%load_ext autoreload\n",
    "%autoreload 2\n",
    "%matplotlib inline"
   ]
  },
  {
   "cell_type": "code",
   "execution_count": null,
   "metadata": {
    "collapsed": false
   },
   "outputs": [],
   "source": [
    "! pip install starccato -q"
   ]
  },
  {
   "cell_type": "markdown",
   "metadata": {},
   "source": [
    "## Load training data"
   ]
  },
  {
   "cell_type": "code",
   "execution_count": null,
   "metadata": {},
   "outputs": [],
   "source": [
    "from starccato.training.training_data import TrainingData\n",
    "\n",
    "training_data = TrainingData()\n",
    "training_data.summary()"
   ]
  },
  {
   "cell_type": "markdown",
   "metadata": {
    "collapsed": false
   },
   "source": [
    "```\n",
    "Signal Dataset mean: -0.516 +/- 39.724\n",
    "Signal Dataset scaling factor (to match noise in generator): 5\n",
    "Signal Dataset shape: (256, 1684)\n",
    "```"
   ]
  },
  {
   "cell_type": "code",
   "execution_count": null,
   "metadata": {
    "collapsed": false
   },
   "outputs": [],
   "source": [
    "from starccato.plotting import overplot_signals\n",
    "\n",
    "signals = training_data.standardize(training_data.raw_signals)[:, 130:-50]\n",
    "fig = overplot_signals(signals, color=\"k\", alpha=0.01, linewidth=0.2)\n",
    "fig.axes[0].set_axis_off()\n",
    "fig.axes[0].grid(False)\n",
    "_ = fig.suptitle(\"Standardised Stellar Core Collapse Signals [Training Data]\")"
   ]
  },
  {
   "cell_type": "code",
   "execution_count": null,
   "metadata": {
    "collapsed": false
   },
   "outputs": [],
   "source": [
    "from starccato.plotting import plot_stacked_signals\n",
    "\n",
    "fig = plot_stacked_signals(signals, norm=\"linear\", cmap=\"inferno_r\")"
   ]
  },
  {
   "cell_type": "code",
   "execution_count": null,
   "metadata": {
    "collapsed": false
   },
   "outputs": [],
   "source": [
    "fig, axes = training_data.plot_waveforms(standardised=True)"
   ]
  },
  {
   "cell_type": "markdown",
   "metadata": {},
   "source": [
    "## Train GAN and discriminator models\n",
    "\n",
    "For details on the model, see the [model architecture](https://github.com/tarin-e/starccato/tree/main/src/starccato/nn).\n",
    "\n",
    "For details on the training, see the [training code](https://github.com/tarin-e/starccato/blob/main/src/starccato/training/trainer.py).\n"
   ]
  },
  {
   "cell_type": "code",
   "execution_count": null,
   "metadata": {},
   "outputs": [],
   "source": [
    "from starccato.training import train\n",
    "\n",
    "result = train(num_epochs=8)"
   ]
  },
  {
   "cell_type": "markdown",
   "metadata": {
    "collapsed": false
   },
   "source": [
    "## Plots\n",
    "\n",
    "### Signals\n",
    "![Signals][signals_end]\n",
    "\n",
    "### Training Loss plot\n",
    "![Losses][losses]\n",
    "\n",
    "### Gradients\n",
    "| Generator Gradients | Discriminator Gradients |\n",
    "|---------------------|-------------------------|\n",
    "| ![Generator Gradients][gen_grads] | ![Discriminator Gradients][disc_grads] |\n",
    "\n",
    "\n",
    "[gen_grads]: outdir/generator_gradients.png\n",
    "[disc_grads]: outdir/discriminator_gradients.png\n",
    "[losses]: outdir/losses.png\n",
    "[signals_end]: outdir/signals_epoch_128.png\n",
    "\n",
    "\n"
   ]
  }
 ],
 "metadata": {
  "kernelspec": {
   "display_name": "Python 3 (ipykernel)",
   "language": "python",
   "name": "python3"
  },
  "language_info": {
   "codemirror_mode": {
    "name": "ipython",
    "version": 3
   },
   "file_extension": ".py",
   "mimetype": "text/x-python",
   "name": "python",
   "nbconvert_exporter": "python",
   "pygments_lexer": "ipython3",
   "version": "3.9.6"
  },
  "orig_nbformat": 4
 },
 "nbformat": 4,
 "nbformat_minor": 2
}
